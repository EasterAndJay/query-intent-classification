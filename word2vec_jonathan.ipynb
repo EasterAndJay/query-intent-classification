{
 "cells": [
  {
   "cell_type": "code",
   "execution_count": 32,
   "metadata": {},
   "outputs": [],
   "source": [
    "from sklearn.model_selection import train_test_split\n",
    "from sklearn.ensemble import RandomForestClassifier, GradientBoostingClassifier\n",
    "from sklearn.feature_extraction import stop_words\n",
    "import numpy as np\n",
    "from gensim.models import KeyedVectors"
   ]
  },
  {
   "cell_type": "code",
   "execution_count": 21,
   "metadata": {},
   "outputs": [],
   "source": [
    "# load the google word2vec model\n",
    "filename = 'GoogleNews-vectors-negative300.bin'\n",
    "model = KeyedVectors.load_word2vec_format(filename, binary=True)"
   ]
  },
  {
   "cell_type": "code",
   "execution_count": 17,
   "metadata": {},
   "outputs": [
    {
     "name": "stdout",
     "output_type": "stream",
     "text": [
      "[('queen', 0.7118192911148071), ('monarch', 0.6189674735069275), ('princess', 0.5902431011199951), ('crown_prince', 0.549946129322052), ('prince', 0.5377321243286133)]\n"
     ]
    }
   ],
   "source": [
    "result = model.most_similar(positive=['woman', 'king'], negative=['man'], topn=5)\n",
    "print(result)"
   ]
  },
  {
   "cell_type": "code",
   "execution_count": 36,
   "metadata": {},
   "outputs": [
    {
     "name": "stdout",
     "output_type": "stream",
     "text": [
      "[('week', 0.5004594922065735)]\n"
     ]
    }
   ],
   "source": [
    "result = model.most_similar(positive=['weekend'], negative=['fun'], topn=1)\n",
    "print(result)"
   ]
  },
  {
   "cell_type": "code",
   "execution_count": 157,
   "metadata": {},
   "outputs": [
    {
     "name": "stdout",
     "output_type": "stream",
     "text": [
      "[('Donald_Trump', 0.8103919625282288)]\n"
     ]
    }
   ],
   "source": [
    "result = model.most_similar(positive=['Trump'],  topn=1)\n",
    "print(result)"
   ]
  },
  {
   "cell_type": "code",
   "execution_count": 22,
   "metadata": {},
   "outputs": [
    {
     "name": "stdout",
     "output_type": "stream",
     "text": [
      "(5452, 300)\n",
      "(5452,)\n"
     ]
    }
   ],
   "source": [
    "vec_length = model.word_vec('serfdom').shape\n",
    "\n",
    "feature_vecs = []\n",
    "labels = []\n",
    "with open('data/Trec.train') as f:\n",
    "    for line in f:\n",
    "        query_vec = np.zeros(vec_length, dtype='float64')\n",
    "        label, query = line.split()[0], line.split()[1:]\n",
    "        labels.append(int(label))\n",
    "        for word in query:\n",
    "            if word in stop_words.ENGLISH_STOP_WORDS: # ['What', 'How', 'Where', 'Who', 'When', 'Which']:\n",
    "                continue\n",
    "            try:\n",
    "#               summing all wordvecs to get queryvec\n",
    "                query_vec += model.word_vec(word)\n",
    "            except KeyError:\n",
    "                pass\n",
    "        feature_vecs.append(query_vec)\n",
    "\n",
    "feature_vecs = np.asarray(feature_vecs)\n",
    "labels = np.asarray(labels)\n",
    "print(feature_vecs.shape)\n",
    "print(labels.shape)"
   ]
  },
  {
   "cell_type": "code",
   "execution_count": 23,
   "metadata": {},
   "outputs": [
    {
     "name": "stdout",
     "output_type": "stream",
     "text": [
      "Training Features Shape: (4906, 300)\n",
      "Training Labels Shape: (4906,)\n",
      "Testing Features Shape: (546, 300)\n",
      "Testing Labels Shape: (546,)\n"
     ]
    }
   ],
   "source": [
    "(train_features,\n",
    "test_features,\n",
    "train_labels,\n",
    "test_labels) = train_test_split(feature_vecs,\n",
    "                               labels,\n",
    "                               test_size = 0.10,\n",
    "                               random_state = 42)\n",
    "print('Training Features Shape:', train_features.shape)\n",
    "print('Training Labels Shape:', train_labels.shape)\n",
    "print('Testing Features Shape:', test_features.shape)\n",
    "print('Testing Labels Shape:', test_labels.shape)"
   ]
  },
  {
   "cell_type": "markdown",
   "metadata": {},
   "source": [
    "# Random Forest = 67% accuracy"
   ]
  },
  {
   "cell_type": "code",
   "execution_count": 35,
   "metadata": {},
   "outputs": [
    {
     "name": "stdout",
     "output_type": "stream",
     "text": [
      "0.3315018315018315\n"
     ]
    }
   ],
   "source": [
    "# Instantiate model with 1000 decision trees\n",
    "rf = RandomForestClassifier(n_estimators = 100, random_state = 42, n_jobs=-1)\n",
    "# Train the model on training data\n",
    "rf.fit(train_features, train_labels);\n",
    "# Use the forest's predict method on the test data\n",
    "predictions = rf.predict(test_features)\n",
    "\n",
    "results = test_labels - predictions\n",
    "error = results[results != 0].size/results.size\n",
    "print(error)"
   ]
  },
  {
   "cell_type": "markdown",
   "metadata": {},
   "source": [
    "# Gradient Boosted Regression Trees = 68%"
   ]
  },
  {
   "cell_type": "code",
   "execution_count": 37,
   "metadata": {},
   "outputs": [
    {
     "name": "stdout",
     "output_type": "stream",
     "text": [
      "0.31684981684981683\n"
     ]
    }
   ],
   "source": [
    "gbrt = GradientBoostingClassifier(n_estimators=100, max_depth=3, criterion='mse')\n",
    "gbrt.fit(train_features, train_labels)\n",
    "predictions = gbrt.predict(test_features)\n",
    "results = test_labels - predictions\n",
    "error = results[results != 0].size/results.size\n",
    "print(error)"
   ]
  },
  {
   "cell_type": "markdown",
   "metadata": {},
   "source": [
    "# SGD and Logistic Regression 75% accuracy"
   ]
  },
  {
   "cell_type": "code",
   "execution_count": 26,
   "metadata": {},
   "outputs": [],
   "source": [
    "from sklearn.linear_model import SGDClassifier"
   ]
  },
  {
   "cell_type": "code",
   "execution_count": 38,
   "metadata": {},
   "outputs": [
    {
     "name": "stdout",
     "output_type": "stream",
     "text": [
      "0.2564102564102564\n"
     ]
    }
   ],
   "source": [
    "sgd = SGDClassifier(loss='log',\n",
    "                    penalty='l2',\n",
    "                    alpha=0.001, l1_ratio=0.15,\n",
    "                    fit_intercept=True,\n",
    "                    max_iter=100,\n",
    "                    tol=None,\n",
    "                    shuffle=True,\n",
    "                    verbose=0,\n",
    "                    n_jobs=-1,\n",
    "                    random_state=None,\n",
    "                    learning_rate='optimal',\n",
    "                    power_t=0.5,\n",
    "                    warm_start=False,\n",
    "                    average=False)\n",
    "sgd.fit(train_features, train_labels)\n",
    "predictions = sgd.predict(test_features)\n",
    "results = test_labels - predictions\n",
    "error = results[results != 0].size/results.size\n",
    "print(error)"
   ]
  }
 ],
 "metadata": {
  "kernelspec": {
   "display_name": "Python 3",
   "language": "python",
   "name": "python3"
  },
  "language_info": {
   "codemirror_mode": {
    "name": "ipython",
    "version": 3
   },
   "file_extension": ".py",
   "mimetype": "text/x-python",
   "name": "python",
   "nbconvert_exporter": "python",
   "pygments_lexer": "ipython3",
   "version": "3.6.4"
  }
 },
 "nbformat": 4,
 "nbformat_minor": 2
}
